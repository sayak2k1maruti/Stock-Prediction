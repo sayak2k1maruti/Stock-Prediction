{
  "cells": [
    {
      "cell_type": "markdown",
      "metadata": {
        "id": "view-in-github",
        "colab_type": "text"
      },
      "source": [
        "<a href=\"https://colab.research.google.com/github/saptarshisarkar20/Stock-Prediction/blob/main/Stock_Price_Predictor.ipynb\" target=\"_parent\"><img src=\"https://colab.research.google.com/assets/colab-badge.svg\" alt=\"Open In Colab\"/></a>"
      ]
    },
    {
      "cell_type": "markdown",
      "metadata": {
        "id": "qlt5D1wtfr5e"
      },
      "source": [
        "# Machine Learning Engineer Nanodegree\n",
        "## Capstone Project\n",
        "## Project: Stock Price Predictor\n",
        "\n",
        "The challenge of this project is to accurately predict the future closing value of a given stock across a given period of time in the future. For this project I will use a [Long Short Term Memory networks – usually just called “LSTMs”](http://colah.github.io/posts/2015-08-Understanding-LSTMs/) to predict the closing price of the [S&P 500](https://en.wikipedia.org/wiki/List_of_S%26P_500_companies) using a dataset of past prices\n"
      ]
    },
    {
      "cell_type": "code",
      "source": [
        "# abcd = len(data)-1\n",
        "# abcd = int(abcd)\n",
        "# print(abcd)\n",
        "for x in range (24) :\n",
        "  print(\"data | \")"
      ],
      "metadata": {
        "id": "71POIOE82Mzg",
        "outputId": "28980977-8ecd-4079-a324-25ac203b11a8",
        "colab": {
          "base_uri": "https://localhost:8080/"
        }
      },
      "execution_count": 2,
      "outputs": [
        {
          "output_type": "stream",
          "name": "stdout",
          "text": [
            "data | \n",
            "data | \n",
            "data | \n",
            "data | \n",
            "data | \n",
            "data | \n",
            "data | \n",
            "data | \n",
            "data | \n",
            "data | \n",
            "data | \n",
            "data | \n",
            "data | \n",
            "data | \n",
            "data | \n",
            "data | \n",
            "data | \n",
            "data | \n",
            "data | \n",
            "data | \n",
            "data | \n",
            "data | \n",
            "data | \n",
            "data | \n"
          ]
        }
      ]
    },
    {
      "cell_type": "markdown",
      "metadata": {
        "id": "-dGPUBczfr5k"
      },
      "source": [
        "## Get the Data\n",
        "\n",
        "In the following cells we download and save the [S&P 500 dataset](https://en.wikipedia.org/wiki/List_of_S%26P_500_companies).\n",
        "\n",
        "   **Step 1 :** Define a function to get historical data from google finance"
      ]
    },
    {
      "cell_type": "code",
      "execution_count": 3,
      "metadata": {
        "collapsed": true,
        "id": "UZ8tkJPifr5m"
      },
      "outputs": [],
      "source": [
        "# import pandas as pd\n",
        "# import datetime\n",
        "\n",
        "# def get_historical_data(symbol,start_date,end_date):\n",
        "#     ''' Daily quotes from Google. Date format='yyyy-mm-dd' '''\n",
        "#     symbol = symbol.upper()\n",
        "#     start = datetime.date(int(start_date[0:4]), int(start_date[5:7]), int(start_date[8:10]))\n",
        "#     end = datetime.date(int(end_date[0:4]), int(end_date[5:7]), int(end_date[8:10]))\n",
        "#     url_string = \"http://www.google.com/finance/historical?q={0}\".format(symbol)\n",
        "#     url_string += \"&startdate={0}&enddate={1}&num={0}&ei=KKltWZHCBNWPuQS9147YBw&output=csv\".format(start.strftime('%b%d,%Y'), end.strftime('%b%d,%Y'),4000)\n",
        "    \n",
        "#     col_names = ['Date','Open','High','Low','Close','Volume']\n",
        "#     stocks = pd.read_csv(url_string, header=0, names=col_names) \n",
        "    \n",
        "#     df = pd.DataFrame(stocks)\n",
        "#     return df"
      ]
    },
    {
      "cell_type": "markdown",
      "metadata": {
        "collapsed": true,
        "id": "WEEHPzrffr5q"
      },
      "source": [
        " **Step 2:** get the data of desired firm from [Google Finance](http://www.google.com/finance)."
      ]
    },
    {
      "cell_type": "code",
      "execution_count": 4,
      "metadata": {
        "id": "csHu0e0Sfr5r"
      },
      "outputs": [],
      "source": [
        "# data = get_historical_data('GOOGL','2005-01-01','2017-06-30') # from January 1, 2005 to June 30, 2017"
      ]
    },
    {
      "cell_type": "markdown",
      "metadata": {
        "id": "y71jMVUgfr5s"
      },
      "source": [
        "**Step 3:** Write the data to a csv file."
      ]
    },
    {
      "cell_type": "code",
      "execution_count": 5,
      "metadata": {
        "id": "pQDINHmkfr5s"
      },
      "outputs": [],
      "source": [
        "# data.to_csv('google.csv',index = False)"
      ]
    },
    {
      "cell_type": "code",
      "source": [
        "import pandas as pd\n",
        "import datetime"
      ],
      "metadata": {
        "id": "qlos4pOqgHbw"
      },
      "execution_count": 6,
      "outputs": []
    },
    {
      "cell_type": "code",
      "source": [
        "df = pd.read_csv(\"/content/DATA/tata.csv\")\n"
      ],
      "metadata": {
        "id": "oSZu5GRyfyTX"
      },
      "execution_count": 7,
      "outputs": []
    },
    {
      "cell_type": "markdown",
      "metadata": {
        "id": "AsaABD33fr5u"
      },
      "source": [
        "# Check Point #1\n",
        "\n",
        "This is my first checkpoint. The data has been saved to disk."
      ]
    },
    {
      "cell_type": "markdown",
      "metadata": {
        "id": "0iJBby43fr5v"
      },
      "source": [
        "## Preprocess the data\n",
        "\n",
        "Now it is time to preprocess the data. In the following cells we will normalise it for better prediction of data.\n",
        "\n",
        "**Step 1 :** Get the data from csv file."
      ]
    },
    {
      "cell_type": "code",
      "source": [
        "import pandas as pd\n",
        "import numpy as np\n",
        "\n",
        "data = pd.read_csv('/content/DATA/tata.csv')\n",
        "print(data.head())\n"
      ],
      "metadata": {
        "colab": {
          "base_uri": "https://localhost:8080/"
        },
        "id": "KGPEMvL4gtGU",
        "outputId": "fa3819ca-f016-4e4e-b797-0bd303474c40"
      },
      "execution_count": 8,
      "outputs": [
        {
          "output_type": "stream",
          "name": "stdout",
          "text": [
            "         Date    Open    High     Low    Last   Close  Total Trade Quantity  \\\n",
            "0  2018-10-08  208.00  222.25  206.85  216.00  215.15             4642146.0   \n",
            "1  2018-10-05  217.00  218.60  205.90  210.25  209.20             3519515.0   \n",
            "2  2018-10-04  223.50  227.80  216.15  217.25  218.20             1728786.0   \n",
            "3  2018-10-03  230.00  237.50  225.75  226.45  227.60             1708590.0   \n",
            "4  2018-10-01  234.55  234.60  221.05  230.30  230.90             1534749.0   \n",
            "\n",
            "   Turnover (Lacs)  \n",
            "0         10062.83  \n",
            "1          7407.06  \n",
            "2          3815.79  \n",
            "3          3960.27  \n",
            "4          3486.05  \n"
          ]
        }
      ]
    },
    {
      "cell_type": "code",
      "source": [
        "df. drop(\"Last\", axis=1, inplace=True)\n",
        "df. drop(\"Turnover (Lacs)\", axis=1, inplace=True)\n",
        "df.head()"
      ],
      "metadata": {
        "colab": {
          "base_uri": "https://localhost:8080/",
          "height": 206
        },
        "id": "wJcudWkZgx9L",
        "outputId": "588a24d9-645f-4005-bf92-330040726163"
      },
      "execution_count": 9,
      "outputs": [
        {
          "output_type": "execute_result",
          "data": {
            "text/plain": [
              "         Date    Open    High     Low   Close  Total Trade Quantity\n",
              "0  2018-10-08  208.00  222.25  206.85  215.15             4642146.0\n",
              "1  2018-10-05  217.00  218.60  205.90  209.20             3519515.0\n",
              "2  2018-10-04  223.50  227.80  216.15  218.20             1728786.0\n",
              "3  2018-10-03  230.00  237.50  225.75  227.60             1708590.0\n",
              "4  2018-10-01  234.55  234.60  221.05  230.90             1534749.0"
            ],
            "text/html": [
              "\n",
              "  <div id=\"df-b92be395-7585-412a-af65-86f0fb73e502\">\n",
              "    <div class=\"colab-df-container\">\n",
              "      <div>\n",
              "<style scoped>\n",
              "    .dataframe tbody tr th:only-of-type {\n",
              "        vertical-align: middle;\n",
              "    }\n",
              "\n",
              "    .dataframe tbody tr th {\n",
              "        vertical-align: top;\n",
              "    }\n",
              "\n",
              "    .dataframe thead th {\n",
              "        text-align: right;\n",
              "    }\n",
              "</style>\n",
              "<table border=\"1\" class=\"dataframe\">\n",
              "  <thead>\n",
              "    <tr style=\"text-align: right;\">\n",
              "      <th></th>\n",
              "      <th>Date</th>\n",
              "      <th>Open</th>\n",
              "      <th>High</th>\n",
              "      <th>Low</th>\n",
              "      <th>Close</th>\n",
              "      <th>Total Trade Quantity</th>\n",
              "    </tr>\n",
              "  </thead>\n",
              "  <tbody>\n",
              "    <tr>\n",
              "      <th>0</th>\n",
              "      <td>2018-10-08</td>\n",
              "      <td>208.00</td>\n",
              "      <td>222.25</td>\n",
              "      <td>206.85</td>\n",
              "      <td>215.15</td>\n",
              "      <td>4642146.0</td>\n",
              "    </tr>\n",
              "    <tr>\n",
              "      <th>1</th>\n",
              "      <td>2018-10-05</td>\n",
              "      <td>217.00</td>\n",
              "      <td>218.60</td>\n",
              "      <td>205.90</td>\n",
              "      <td>209.20</td>\n",
              "      <td>3519515.0</td>\n",
              "    </tr>\n",
              "    <tr>\n",
              "      <th>2</th>\n",
              "      <td>2018-10-04</td>\n",
              "      <td>223.50</td>\n",
              "      <td>227.80</td>\n",
              "      <td>216.15</td>\n",
              "      <td>218.20</td>\n",
              "      <td>1728786.0</td>\n",
              "    </tr>\n",
              "    <tr>\n",
              "      <th>3</th>\n",
              "      <td>2018-10-03</td>\n",
              "      <td>230.00</td>\n",
              "      <td>237.50</td>\n",
              "      <td>225.75</td>\n",
              "      <td>227.60</td>\n",
              "      <td>1708590.0</td>\n",
              "    </tr>\n",
              "    <tr>\n",
              "      <th>4</th>\n",
              "      <td>2018-10-01</td>\n",
              "      <td>234.55</td>\n",
              "      <td>234.60</td>\n",
              "      <td>221.05</td>\n",
              "      <td>230.90</td>\n",
              "      <td>1534749.0</td>\n",
              "    </tr>\n",
              "  </tbody>\n",
              "</table>\n",
              "</div>\n",
              "      <button class=\"colab-df-convert\" onclick=\"convertToInteractive('df-b92be395-7585-412a-af65-86f0fb73e502')\"\n",
              "              title=\"Convert this dataframe to an interactive table.\"\n",
              "              style=\"display:none;\">\n",
              "        \n",
              "  <svg xmlns=\"http://www.w3.org/2000/svg\" height=\"24px\"viewBox=\"0 0 24 24\"\n",
              "       width=\"24px\">\n",
              "    <path d=\"M0 0h24v24H0V0z\" fill=\"none\"/>\n",
              "    <path d=\"M18.56 5.44l.94 2.06.94-2.06 2.06-.94-2.06-.94-.94-2.06-.94 2.06-2.06.94zm-11 1L8.5 8.5l.94-2.06 2.06-.94-2.06-.94L8.5 2.5l-.94 2.06-2.06.94zm10 10l.94 2.06.94-2.06 2.06-.94-2.06-.94-.94-2.06-.94 2.06-2.06.94z\"/><path d=\"M17.41 7.96l-1.37-1.37c-.4-.4-.92-.59-1.43-.59-.52 0-1.04.2-1.43.59L10.3 9.45l-7.72 7.72c-.78.78-.78 2.05 0 2.83L4 21.41c.39.39.9.59 1.41.59.51 0 1.02-.2 1.41-.59l7.78-7.78 2.81-2.81c.8-.78.8-2.07 0-2.86zM5.41 20L4 18.59l7.72-7.72 1.47 1.35L5.41 20z\"/>\n",
              "  </svg>\n",
              "      </button>\n",
              "      \n",
              "  <style>\n",
              "    .colab-df-container {\n",
              "      display:flex;\n",
              "      flex-wrap:wrap;\n",
              "      gap: 12px;\n",
              "    }\n",
              "\n",
              "    .colab-df-convert {\n",
              "      background-color: #E8F0FE;\n",
              "      border: none;\n",
              "      border-radius: 50%;\n",
              "      cursor: pointer;\n",
              "      display: none;\n",
              "      fill: #1967D2;\n",
              "      height: 32px;\n",
              "      padding: 0 0 0 0;\n",
              "      width: 32px;\n",
              "    }\n",
              "\n",
              "    .colab-df-convert:hover {\n",
              "      background-color: #E2EBFA;\n",
              "      box-shadow: 0px 1px 2px rgba(60, 64, 67, 0.3), 0px 1px 3px 1px rgba(60, 64, 67, 0.15);\n",
              "      fill: #174EA6;\n",
              "    }\n",
              "\n",
              "    [theme=dark] .colab-df-convert {\n",
              "      background-color: #3B4455;\n",
              "      fill: #D2E3FC;\n",
              "    }\n",
              "\n",
              "    [theme=dark] .colab-df-convert:hover {\n",
              "      background-color: #434B5C;\n",
              "      box-shadow: 0px 1px 3px 1px rgba(0, 0, 0, 0.15);\n",
              "      filter: drop-shadow(0px 1px 2px rgba(0, 0, 0, 0.3));\n",
              "      fill: #FFFFFF;\n",
              "    }\n",
              "  </style>\n",
              "\n",
              "      <script>\n",
              "        const buttonEl =\n",
              "          document.querySelector('#df-b92be395-7585-412a-af65-86f0fb73e502 button.colab-df-convert');\n",
              "        buttonEl.style.display =\n",
              "          google.colab.kernel.accessAllowed ? 'block' : 'none';\n",
              "\n",
              "        async function convertToInteractive(key) {\n",
              "          const element = document.querySelector('#df-b92be395-7585-412a-af65-86f0fb73e502');\n",
              "          const dataTable =\n",
              "            await google.colab.kernel.invokeFunction('convertToInteractive',\n",
              "                                                     [key], {});\n",
              "          if (!dataTable) return;\n",
              "\n",
              "          const docLinkHtml = 'Like what you see? Visit the ' +\n",
              "            '<a target=\"_blank\" href=https://colab.research.google.com/notebooks/data_table.ipynb>data table notebook</a>'\n",
              "            + ' to learn more about interactive tables.';\n",
              "          element.innerHTML = '';\n",
              "          dataTable['output_type'] = 'display_data';\n",
              "          await google.colab.output.renderOutput(dataTable, element);\n",
              "          const docLink = document.createElement('div');\n",
              "          docLink.innerHTML = docLinkHtml;\n",
              "          element.appendChild(docLink);\n",
              "        }\n",
              "      </script>\n",
              "    </div>\n",
              "  </div>\n",
              "  "
            ]
          },
          "metadata": {},
          "execution_count": 9
        }
      ]
    },
    {
      "cell_type": "code",
      "source": [
        "df.rename(columns={'Total Trade Quantity': 'Volume'}, inplace=True)\n",
        "df.head()"
      ],
      "metadata": {
        "colab": {
          "base_uri": "https://localhost:8080/",
          "height": 206
        },
        "id": "9TTT9J6lht3B",
        "outputId": "7bdb7493-6b85-4f53-e189-2b4d80485034"
      },
      "execution_count": 10,
      "outputs": [
        {
          "output_type": "execute_result",
          "data": {
            "text/plain": [
              "         Date    Open    High     Low   Close     Volume\n",
              "0  2018-10-08  208.00  222.25  206.85  215.15  4642146.0\n",
              "1  2018-10-05  217.00  218.60  205.90  209.20  3519515.0\n",
              "2  2018-10-04  223.50  227.80  216.15  218.20  1728786.0\n",
              "3  2018-10-03  230.00  237.50  225.75  227.60  1708590.0\n",
              "4  2018-10-01  234.55  234.60  221.05  230.90  1534749.0"
            ],
            "text/html": [
              "\n",
              "  <div id=\"df-d1fafa4a-be3e-437d-82fb-f0ee1c0c611e\">\n",
              "    <div class=\"colab-df-container\">\n",
              "      <div>\n",
              "<style scoped>\n",
              "    .dataframe tbody tr th:only-of-type {\n",
              "        vertical-align: middle;\n",
              "    }\n",
              "\n",
              "    .dataframe tbody tr th {\n",
              "        vertical-align: top;\n",
              "    }\n",
              "\n",
              "    .dataframe thead th {\n",
              "        text-align: right;\n",
              "    }\n",
              "</style>\n",
              "<table border=\"1\" class=\"dataframe\">\n",
              "  <thead>\n",
              "    <tr style=\"text-align: right;\">\n",
              "      <th></th>\n",
              "      <th>Date</th>\n",
              "      <th>Open</th>\n",
              "      <th>High</th>\n",
              "      <th>Low</th>\n",
              "      <th>Close</th>\n",
              "      <th>Volume</th>\n",
              "    </tr>\n",
              "  </thead>\n",
              "  <tbody>\n",
              "    <tr>\n",
              "      <th>0</th>\n",
              "      <td>2018-10-08</td>\n",
              "      <td>208.00</td>\n",
              "      <td>222.25</td>\n",
              "      <td>206.85</td>\n",
              "      <td>215.15</td>\n",
              "      <td>4642146.0</td>\n",
              "    </tr>\n",
              "    <tr>\n",
              "      <th>1</th>\n",
              "      <td>2018-10-05</td>\n",
              "      <td>217.00</td>\n",
              "      <td>218.60</td>\n",
              "      <td>205.90</td>\n",
              "      <td>209.20</td>\n",
              "      <td>3519515.0</td>\n",
              "    </tr>\n",
              "    <tr>\n",
              "      <th>2</th>\n",
              "      <td>2018-10-04</td>\n",
              "      <td>223.50</td>\n",
              "      <td>227.80</td>\n",
              "      <td>216.15</td>\n",
              "      <td>218.20</td>\n",
              "      <td>1728786.0</td>\n",
              "    </tr>\n",
              "    <tr>\n",
              "      <th>3</th>\n",
              "      <td>2018-10-03</td>\n",
              "      <td>230.00</td>\n",
              "      <td>237.50</td>\n",
              "      <td>225.75</td>\n",
              "      <td>227.60</td>\n",
              "      <td>1708590.0</td>\n",
              "    </tr>\n",
              "    <tr>\n",
              "      <th>4</th>\n",
              "      <td>2018-10-01</td>\n",
              "      <td>234.55</td>\n",
              "      <td>234.60</td>\n",
              "      <td>221.05</td>\n",
              "      <td>230.90</td>\n",
              "      <td>1534749.0</td>\n",
              "    </tr>\n",
              "  </tbody>\n",
              "</table>\n",
              "</div>\n",
              "      <button class=\"colab-df-convert\" onclick=\"convertToInteractive('df-d1fafa4a-be3e-437d-82fb-f0ee1c0c611e')\"\n",
              "              title=\"Convert this dataframe to an interactive table.\"\n",
              "              style=\"display:none;\">\n",
              "        \n",
              "  <svg xmlns=\"http://www.w3.org/2000/svg\" height=\"24px\"viewBox=\"0 0 24 24\"\n",
              "       width=\"24px\">\n",
              "    <path d=\"M0 0h24v24H0V0z\" fill=\"none\"/>\n",
              "    <path d=\"M18.56 5.44l.94 2.06.94-2.06 2.06-.94-2.06-.94-.94-2.06-.94 2.06-2.06.94zm-11 1L8.5 8.5l.94-2.06 2.06-.94-2.06-.94L8.5 2.5l-.94 2.06-2.06.94zm10 10l.94 2.06.94-2.06 2.06-.94-2.06-.94-.94-2.06-.94 2.06-2.06.94z\"/><path d=\"M17.41 7.96l-1.37-1.37c-.4-.4-.92-.59-1.43-.59-.52 0-1.04.2-1.43.59L10.3 9.45l-7.72 7.72c-.78.78-.78 2.05 0 2.83L4 21.41c.39.39.9.59 1.41.59.51 0 1.02-.2 1.41-.59l7.78-7.78 2.81-2.81c.8-.78.8-2.07 0-2.86zM5.41 20L4 18.59l7.72-7.72 1.47 1.35L5.41 20z\"/>\n",
              "  </svg>\n",
              "      </button>\n",
              "      \n",
              "  <style>\n",
              "    .colab-df-container {\n",
              "      display:flex;\n",
              "      flex-wrap:wrap;\n",
              "      gap: 12px;\n",
              "    }\n",
              "\n",
              "    .colab-df-convert {\n",
              "      background-color: #E8F0FE;\n",
              "      border: none;\n",
              "      border-radius: 50%;\n",
              "      cursor: pointer;\n",
              "      display: none;\n",
              "      fill: #1967D2;\n",
              "      height: 32px;\n",
              "      padding: 0 0 0 0;\n",
              "      width: 32px;\n",
              "    }\n",
              "\n",
              "    .colab-df-convert:hover {\n",
              "      background-color: #E2EBFA;\n",
              "      box-shadow: 0px 1px 2px rgba(60, 64, 67, 0.3), 0px 1px 3px 1px rgba(60, 64, 67, 0.15);\n",
              "      fill: #174EA6;\n",
              "    }\n",
              "\n",
              "    [theme=dark] .colab-df-convert {\n",
              "      background-color: #3B4455;\n",
              "      fill: #D2E3FC;\n",
              "    }\n",
              "\n",
              "    [theme=dark] .colab-df-convert:hover {\n",
              "      background-color: #434B5C;\n",
              "      box-shadow: 0px 1px 3px 1px rgba(0, 0, 0, 0.15);\n",
              "      filter: drop-shadow(0px 1px 2px rgba(0, 0, 0, 0.3));\n",
              "      fill: #FFFFFF;\n",
              "    }\n",
              "  </style>\n",
              "\n",
              "      <script>\n",
              "        const buttonEl =\n",
              "          document.querySelector('#df-d1fafa4a-be3e-437d-82fb-f0ee1c0c611e button.colab-df-convert');\n",
              "        buttonEl.style.display =\n",
              "          google.colab.kernel.accessAllowed ? 'block' : 'none';\n",
              "\n",
              "        async function convertToInteractive(key) {\n",
              "          const element = document.querySelector('#df-d1fafa4a-be3e-437d-82fb-f0ee1c0c611e');\n",
              "          const dataTable =\n",
              "            await google.colab.kernel.invokeFunction('convertToInteractive',\n",
              "                                                     [key], {});\n",
              "          if (!dataTable) return;\n",
              "\n",
              "          const docLinkHtml = 'Like what you see? Visit the ' +\n",
              "            '<a target=\"_blank\" href=https://colab.research.google.com/notebooks/data_table.ipynb>data table notebook</a>'\n",
              "            + ' to learn more about interactive tables.';\n",
              "          element.innerHTML = '';\n",
              "          dataTable['output_type'] = 'display_data';\n",
              "          await google.colab.output.renderOutput(dataTable, element);\n",
              "          const docLink = document.createElement('div');\n",
              "          docLink.innerHTML = docLinkHtml;\n",
              "          element.appendChild(docLink);\n",
              "        }\n",
              "      </script>\n",
              "    </div>\n",
              "  </div>\n",
              "  "
            ]
          },
          "metadata": {},
          "execution_count": 10
        }
      ]
    },
    {
      "cell_type": "code",
      "execution_count": 11,
      "metadata": {
        "colab": {
          "base_uri": "https://localhost:8080/"
        },
        "id": "E8JeDuWDfr5x",
        "outputId": "0a617e90-96ac-4dae-8171-c0f4198e28a2"
      },
      "outputs": [
        {
          "output_type": "stream",
          "name": "stdout",
          "text": [
            "Open   --- mean : 168.95485829959523   \t Std:  51.478291213631614   \t Max:  327.7   \t Min:  103.0\n",
            "High   --- mean : 171.42906882591095   \t Std:  52.41552680790226   \t Max:  328.75   \t Min:  104.6\n",
            "Low    --- mean : 166.40230769230757   \t Std:  50.52245214543648   \t Max:  321.65   \t Min:  100.0\n",
            "Close  --- mean : 168.73105263157888   \t Std:  51.524055162908354   \t Max:  325.75   \t Min:  102.65\n",
            "Volume --- mean : 2604151.1400809716   \t Std:  2276105.6169295763   \t Max:  29191015.0   \t Min:  100180.0\n"
          ]
        }
      ],
      "source": [
        "data = df\n",
        "print(\"Open   --- mean :\", np.mean(data['Open']),  \"  \\t Std: \", np.std(data['Open']),  \"  \\t Max: \", np.max(data['Open']),  \"  \\t Min: \", np.min(data['Open']))\n",
        "print(\"High   --- mean :\", np.mean(data['High']),  \"  \\t Std: \", np.std(data['High']),  \"  \\t Max: \", np.max(data['High']),  \"  \\t Min: \", np.min(data['High']))\n",
        "print(\"Low    --- mean :\", np.mean(data['Low']),   \"  \\t Std: \", np.std(data['Low']),   \"  \\t Max: \", np.max(data['Low']),   \"  \\t Min: \", np.min(data['Low']))\n",
        "print(\"Close  --- mean :\", np.mean(data['Close']), \"  \\t Std: \", np.std(data['Close']), \"  \\t Max: \", np.max(data['Close']), \"  \\t Min: \", np.min(data['Close']))\n",
        "print(\"Volume --- mean :\", np.mean(data['Volume']),\"  \\t Std: \", np.std(data['Volume']),\"  \\t Max: \", np.max(data['Volume']),\"  \\t Min: \", np.min(data['Volume']))\n",
        "\n"
      ]
    },
    {
      "cell_type": "code",
      "source": [
        "# abcd = len(data)-1\n",
        "# abcd = int(abcd)\n",
        "# print(abcd)\n",
        "for x in range (24) :\n",
        "  print(\"data | \")"
      ],
      "metadata": {
        "colab": {
          "base_uri": "https://localhost:8080/"
        },
        "id": "CvuHkkCxxfrM",
        "outputId": "92302231-3203-4f7a-d15f-7c9abb99e219"
      },
      "execution_count": 12,
      "outputs": [
        {
          "output_type": "stream",
          "name": "stdout",
          "text": [
            "data | \n",
            "data | \n",
            "data | \n",
            "data | \n",
            "data | \n",
            "data | \n",
            "data | \n",
            "data | \n",
            "data | \n",
            "data | \n",
            "data | \n",
            "data | \n",
            "data | \n",
            "data | \n",
            "data | \n",
            "data | \n",
            "data | \n",
            "data | \n",
            "data | \n",
            "data | \n",
            "data | \n",
            "data | \n",
            "data | \n",
            "data | \n"
          ]
        }
      ]
    },
    {
      "cell_type": "markdown",
      "metadata": {
        "id": "wrCZlzDOfr5z"
      },
      "source": [
        "**Step 2 :** Remove Unncessary data, i.e., Date and High value"
      ]
    },
    {
      "cell_type": "code",
      "source": [
        "import pandas as pd\n",
        "\n",
        "# Import sklearn.preprocessing.StandardScaler\n",
        "from sklearn.preprocessing import MinMaxScaler\n",
        "\n",
        "\n",
        "def get_normalised_data(data):\n",
        "    \"\"\"\n",
        "    Normalises the data values using MinMaxScaler from sklearn\n",
        "    :param data: a DataFrame with columns as  ['index','Open','Close','Volume']\n",
        "    :return: a DataFrame with normalised value for all the columns except index\n",
        "    \"\"\"\n",
        "    # Initialize a scaler, then apply it to the features\n",
        "    scaler = MinMaxScaler()\n",
        "    numerical = ['Open', 'Close', 'Volume']\n",
        "    data[numerical] = scaler.fit_transform(data[numerical])\n",
        "\n",
        "    return data\n",
        "\n",
        "\n",
        "def remove_data(data):\n",
        "    \"\"\"\n",
        "    Remove columns from the data\n",
        "    :param data: a record of all the stock prices with columns as  ['Date','Open','High','Low','Close','Volume']\n",
        "    :return: a DataFrame with columns as  ['index','Open','Close','Volume']\n",
        "    \"\"\"\n",
        "    # Define columns of data to keep from historical stock data\n",
        "    item = []\n",
        "    open = []\n",
        "    close = []\n",
        "    volume = []\n",
        "    # data = list(data)\n",
        "    # Loop through the stock data objects backwards and store factors we want to keep\n",
        "    i_counter = 0\n",
        "    for i in range((len(data) - 1), -1, -1):\n",
        "        item.append(i_counter)\n",
        "        open.append(data['Open'][i])\n",
        "        close.append(data['Close'][i])\n",
        "        volume.append(data['Volume'][i])\n",
        "        i_counter += 1\n",
        "\n",
        "    # Create a data frame for stock data\n",
        "    stocks = pd.DataFrame()\n",
        "\n",
        "    # Add factors to data frame\n",
        "    stocks['Item'] = item\n",
        "    stocks['Open'] = open\n",
        "    stocks['Close'] = pd.to_numeric(close)\n",
        "    stocks['Volume'] = pd.to_numeric(volume)\n",
        "\n",
        "    # return new formatted data\n",
        "    return stocks\n",
        "\n"
      ],
      "metadata": {
        "id": "medByc15ilF_"
      },
      "execution_count": 13,
      "outputs": []
    },
    {
      "cell_type": "code",
      "execution_count": 14,
      "metadata": {
        "colab": {
          "base_uri": "https://localhost:8080/"
        },
        "id": "6_tU3Qeefr50",
        "outputId": "66e9540c-5f5d-4b25-a7e4-acfa5ba3c980"
      },
      "outputs": [
        {
          "output_type": "stream",
          "name": "stdout",
          "text": [
            "   Item    Open   Close     Volume\n",
            "0     0  157.00  155.80  1720413.0\n",
            "1     1  155.70  155.55  2049580.0\n",
            "2     2  156.00  160.15  3124853.0\n",
            "3     3  161.15  160.05  1880046.0\n",
            "4     4  160.85  159.45  1281419.0\n",
            "---\n",
            "      Item    Open   Close     Volume\n",
            "1230  1230  234.55  230.90  1534749.0\n",
            "1231  1231  230.00  227.60  1708590.0\n",
            "1232  1232  223.50  218.20  1728786.0\n",
            "1233  1233  217.00  209.20  3519515.0\n",
            "1234  1234  208.00  215.15  4642146.0\n"
          ]
        }
      ],
      "source": [
        "# import preprocess_data as ppd\n",
        "stocks = remove_data(data)\n",
        "\n",
        "#Print the dataframe head and tail\n",
        "print(stocks.head())\n",
        "print(\"---\")\n",
        "print(stocks.tail())"
      ]
    },
    {
      "cell_type": "markdown",
      "metadata": {
        "id": "Ldhe7RSofr51"
      },
      "source": [
        "**Step 2: ** Visualise raw data."
      ]
    },
    {
      "cell_type": "code",
      "source": [
        "#%matplotlib notebook\n",
        "#%matplotlib inline\n",
        "import matplotlib.pyplot as plt\n",
        "plt.rcParams['figure.figsize'] = (18, 12)\n",
        "\n",
        "\n",
        "def price(x):\n",
        "    \"\"\"\n",
        "    format the coords message box\n",
        "    :param x: data to be formatted\n",
        "    :return: formatted data\n",
        "    \"\"\"\n",
        "    return '$%1.2f' % x\n",
        "\n",
        "\n",
        "def plot_basic(stocks, title='TATA Trading', y_label='Price INR', x_label='Trading Days'):\n",
        "    \"\"\"\n",
        "    Plots basic pyplot\n",
        "    :param stocks: DataFrame having all the necessary data\n",
        "    :param title:  Title of the plot \n",
        "    :param y_label: yLabel of the plot\n",
        "    :param x_label: xLabel of the plot\n",
        "    :return: prints a Pyplot againts items and their closing value\n",
        "    \"\"\"\n",
        "    fig, ax = plt.subplots()\n",
        "    ax.plot(stocks['Item'], stocks['Close'], '#0A7388')\n",
        "\n",
        "    ax.format_ydata = price\n",
        "    ax.set_title(title)\n",
        "\n",
        "    # Add labels\n",
        "    plt.ylabel(y_label)\n",
        "    plt.xlabel(x_label)\n",
        "\n",
        "    plt.show()\n",
        "\n",
        "\n",
        "def plot_prediction(actual, prediction, title='TATA Trading vs Prediction', y_label='Price INR', x_label='Trading Days'):\n",
        "    \"\"\"\n",
        "    Plots train, test and prediction\n",
        "    :param actual: DataFrame containing actual data\n",
        "    :param prediction: DataFrame containing predicted values\n",
        "    :param title:  Title of the plot\n",
        "    :param y_label: yLabel of the plot\n",
        "    :param x_label: xLabel of the plot\n",
        "    :return: prints a Pyplot againts items and their closing value\n",
        "    \"\"\"\n",
        "    fig = plt.figure()\n",
        "    ax = fig.add_subplot(111)\n",
        "\n",
        "    # Add labels\n",
        "    plt.ylabel(y_label)\n",
        "    plt.xlabel(x_label)\n",
        "\n",
        "    # Plot actual and predicted close values\n",
        "\n",
        "    plt.plot(actual, '#00FF00', label='Adjusted Close')\n",
        "    plt.plot(prediction, '#0000FF', label='Predicted Close')\n",
        "\n",
        "    # Set title\n",
        "    ax.set_title(title)\n",
        "    ax.legend(loc='upper left')\n",
        "\n",
        "    plt.show()\n",
        "\n",
        "\n",
        "def plot_lstm_prediction(actual, prediction, title='TATA Trading vs Prediction', y_label='Price INR', x_label='Trading Days'):\n",
        "    \"\"\"\n",
        "    Plots train, test and prediction\n",
        "    :param actual: DataFrame containing actual data\n",
        "    :param prediction: DataFrame containing predicted values\n",
        "    :param title:  Title of the plot\n",
        "    :param y_label: yLabel of the plot\n",
        "    :param x_label: xLabel of the plot\n",
        "    :return: prints a Pyplot againts items and their closing value\n",
        "    \"\"\"\n",
        "    fig = plt.figure()\n",
        "    ax = fig.add_subplot(111)\n",
        "\n",
        "    # Add labels\n",
        "    plt.ylabel(y_label)\n",
        "    plt.xlabel(x_label)\n",
        "\n",
        "    # Plot actual and predicted close values\n",
        "\n",
        "    plt.plot(actual, '#00FF00', label='Adjusted Close')\n",
        "    plt.plot(prediction, '#0000FF', label='Predicted Close')\n",
        "\n",
        "    # Set title\n",
        "    ax.set_title(title)\n",
        "    ax.legend(loc='upper left')\n",
        "\n",
        "\n",
        "    plt.show()\n",
        "\n"
      ],
      "metadata": {
        "id": "fkaR5-OhjKLf"
      },
      "execution_count": 15,
      "outputs": []
    },
    {
      "cell_type": "code",
      "execution_count": 16,
      "metadata": {
        "id": "Vi-XB5p-fr51",
        "colab": {
          "base_uri": "https://localhost:8080/",
          "height": 674
        },
        "outputId": "801d814b-a3a9-484c-f429-6b1e34555605"
      },
      "outputs": [
        {
          "output_type": "display_data",
          "data": {
            "text/plain": [
              "<Figure size 1296x864 with 1 Axes>"
            ],
            "image/png": "[encoded data removed]"
          },
          "metadata": {
            "needs_background": "light"
          }
        }
      ],
      "source": [
        "# import visualize\n",
        "# visualize.plot_basic(stocks)\n",
        "plot_basic(stocks)\n"
      ]
    },
    {
      "cell_type": "markdown",
      "metadata": {
        "id": "jUTcQj8Ifr52"
      },
      "source": [
        "**Step 3 :** Normalise the data using minmaxscaler function"
      ]
    },
    {
      "cell_type": "code",
      "execution_count": 17,
      "metadata": {
        "id": "eLR5jELGfr52",
        "colab": {
          "base_uri": "https://localhost:8080/"
        },
        "outputId": "a422f1ef-f05a-4e13-b01c-7c3ac791d341"
      },
      "outputs": [
        {
          "output_type": "stream",
          "name": "stdout",
          "text": [
            "   Item      Open     Close    Volume\n",
            "0     0  0.240320  0.238234  0.055696\n",
            "1     1  0.234535  0.237113  0.067011\n",
            "2     2  0.235870  0.257732  0.103973\n",
            "3     3  0.258789  0.257284  0.061183\n",
            "4     4  0.257454  0.254594  0.040605\n",
            "\n",
            "\n",
            "Open   --- mean : 0.2935240689790616   \t Std:  0.2290978692195447   \t Max:  1.0   \t Min:  0.0\n",
            "Close  --- mean : 0.2961947675104388   \t Std:  0.23094601148771113   \t Max:  1.0   \t Min:  0.0\n",
            "Volume --- mean : 0.08607422716058073   \t Std:  0.0782413298528411   \t Max:  1.0000000000000002   \t Min:  0.0\n"
          ]
        }
      ],
      "source": [
        "stocks = get_normalised_data(stocks)\n",
        "print(stocks.head())\n",
        "\n",
        "print(\"\\n\")\n",
        "print(\"Open   --- mean :\", np.mean(stocks['Open']),  \"  \\t Std: \", np.std(stocks['Open']),  \"  \\t Max: \", np.max(stocks['Open']),  \"  \\t Min: \", np.min(stocks['Open']))\n",
        "print(\"Close  --- mean :\", np.mean(stocks['Close']), \"  \\t Std: \", np.std(stocks['Close']), \"  \\t Max: \", np.max(stocks['Close']), \"  \\t Min: \", np.min(stocks['Close']))\n",
        "print(\"Volume --- mean :\", np.mean(stocks['Volume']),\"  \\t Std: \", np.std(stocks['Volume']),\"  \\t Max: \", np.max(stocks['Volume']),\"  \\t Min: \", np.min(stocks['Volume']))"
      ]
    },
    {
      "cell_type": "markdown",
      "metadata": {
        "id": "8D1CMO_zfr53"
      },
      "source": [
        "**Step 4 :** Visualize the data again"
      ]
    },
    {
      "cell_type": "code",
      "execution_count": 18,
      "metadata": {
        "id": "TY0lVW6Nfr53",
        "colab": {
          "base_uri": "https://localhost:8080/",
          "height": 676
        },
        "outputId": "e8f15101-e7fa-459b-c3d0-46d8a038f208"
      },
      "outputs": [
        {
          "output_type": "display_data",
          "data": {
            "text/plain": [
              "<Figure size 1296x864 with 1 Axes>"
            ],
            "image/png": "[encoded data removed]"
          },
          "metadata": {
            "needs_background": "light"
          }
        }
      ],
      "source": [
        "plot_basic(stocks)"
      ]
    },
    {
      "cell_type": "markdown",
      "metadata": {
        "collapsed": true,
        "id": "M10m_vJtfr54"
      },
      "source": [
        "**Step 5:** Log the normalised data for future resuablilty"
      ]
    },
    {
      "cell_type": "markdown",
      "metadata": {
        "id": "LgFg3Csufr55"
      },
      "source": [
        "# Check Point #2\n",
        "\n",
        "This is my second checkpoint. The preprocessed data has been saved to disk."
      ]
    },
    {
      "cell_type": "code",
      "execution_count": 19,
      "metadata": {
        "collapsed": true,
        "id": "LtIM_mXmfr54"
      },
      "outputs": [],
      "source": [
        "stocks.to_csv('/content/DATA/tata_prepeocessed.csv',index= False)"
      ]
    },
    {
      "cell_type": "markdown",
      "metadata": {
        "id": "w25aefLlfr56"
      },
      "source": [
        "## Bench Mark Model\n",
        "\n",
        "In this section we will check our bench mark model. As is proposed in my proposal my bench mark model is a simple linear regressor model. "
      ]
    },
    {
      "cell_type": "markdown",
      "metadata": {
        "id": "jCCEbEQffr56"
      },
      "source": [
        "**Step 1:** Load the preprocessed data"
      ]
    },
    {
      "cell_type": "code",
      "source": [
        "import numpy as np\n",
        "import math\n",
        "\n",
        "\n",
        "def scale_range(x, input_range, target_range):\n",
        "    \"\"\"\n",
        "\n",
        "    Rescale a numpy array from input to target range\n",
        "    :param x: data to scale\n",
        "    :param input_range: optional input range for data: default 0.0:1.0\n",
        "    :param target_range: optional target range for data: default 0.0:1.0\n",
        "    :return: rescaled array, incoming range [min,max]\n",
        "    \"\"\"\n",
        "\n",
        "    range = [np.amin(x), np.amax(x)]\n",
        "    x_std = (x - input_range[0]) / (1.0*(input_range[1] - input_range[0]))\n",
        "    x_scaled = x_std * (1.0*(target_range[1] - target_range[0])) + target_range[0]\n",
        "    return x_scaled, range\n",
        "\n",
        "\n",
        "def train_test_split_linear_regression(stocks):\n",
        "    \"\"\"\n",
        "        Split the data set into training and testing feature for Linear Regression Model\n",
        "        :param stocks: whole data set containing ['Open','Close','Volume'] features\n",
        "        :return: X_train : training sets of feature\n",
        "        :return: X_test : test sets of feature\n",
        "        :return: y_train: training sets of label\n",
        "        :return: y_test: test sets of label\n",
        "        :return: label_range: scaled range of label used in predicting price,\n",
        "    \"\"\"\n",
        "    # Create numpy arrays for features and targets\n",
        "    feature = []\n",
        "    label = []\n",
        "\n",
        "    # Convert dataframe columns to numpy arrays for scikit learn\n",
        "    for index, row in stocks.iterrows():\n",
        "        # print([np.array(row['Item'])])\n",
        "        feature.append([(row['Item'])])\n",
        "        label.append([(row['Close'])])\n",
        "\n",
        "    # Regularize the feature and target arrays and store min/max of input data for rescaling later\n",
        "    feature_bounds = [min(feature), max(feature)]\n",
        "    feature_bounds = [feature_bounds[0][0], feature_bounds[1][0]]\n",
        "    label_bounds = [min(label), max(label)]\n",
        "    label_bounds = [label_bounds[0][0], label_bounds[1][0]]\n",
        "\n",
        "    feature_scaled, feature_range = scale_range(np.array(feature), input_range=feature_bounds, target_range=[-1.0, 1.0])\n",
        "    label_scaled, label_range = scale_range(np.array(label), input_range=label_bounds, target_range=[-1.0, 1.0])\n",
        "\n",
        "    # Define Test/Train Split 80/20\n",
        "    split = .315\n",
        "    split = int(math.floor(len(stocks['Item']) * split))\n",
        "\n",
        "    # Set up training and test sets\n",
        "    X_train = feature_scaled[:-split]\n",
        "    X_test = feature_scaled[-split:]\n",
        "\n",
        "    y_train = label_scaled[:-split]\n",
        "    y_test = label_scaled[-split:]\n",
        "\n",
        "    return X_train, X_test, y_train, y_test, label_range\n",
        "\n",
        "\n",
        "def train_test_split_lstm(stocks, prediction_time=1, test_data_size=450, unroll_length=50):\n",
        "    \"\"\"\n",
        "        Split the data set into training and testing feature for Long Short Term Memory Model\n",
        "        :param stocks: whole data set containing ['Open','Close','Volume'] features\n",
        "        :param prediction_time: no of days\n",
        "        :param test_data_size: size of test data to be used\n",
        "        :param unroll_length: how long a window should be used for train test split\n",
        "        :return: X_train : training sets of feature\n",
        "        :return: X_test : test sets of feature\n",
        "        :return: y_train: training sets of label\n",
        "        :return: y_test: test sets of label\n",
        "    \"\"\"\n",
        "    # training data\n",
        "    test_data_cut = test_data_size + unroll_length + 1\n",
        "\n",
        "    x_train = stocks[0:-prediction_time - test_data_cut].values\n",
        "    y_train = stocks[prediction_time:-test_data_cut]['Close'].values\n",
        "\n",
        "    # test data\n",
        "    x_test = stocks[0 - test_data_cut:-prediction_time].values\n",
        "    y_test = stocks[prediction_time - test_data_cut:]['Close'].values\n",
        "\n",
        "    return x_train, x_test, y_train, y_test\n",
        "\n",
        "\n",
        "def unroll(data, sequence_length=24):\n",
        "    \"\"\"\n",
        "    use different windows for testing and training to stop from leak of information in the data\n",
        "    :param data: data set to be used for unrolling\n",
        "    :param sequence_length: window length\n",
        "    :return: data sets with different window.\n",
        "    \"\"\"\n",
        "    result = []\n",
        "    for index in range(len(data) - sequence_length):\n",
        "        result.append(data[index: index + sequence_length])\n",
        "    return np.asarray(result)\n",
        "\n",
        "\n"
      ],
      "metadata": {
        "id": "I5X3vlnVkQ8N"
      },
      "execution_count": 20,
      "outputs": []
    },
    {
      "cell_type": "code",
      "source": [
        "from sklearn import linear_model\n",
        "import numpy as np\n",
        "\n",
        "\n",
        "def build_model(X, y):\n",
        "    \"\"\"\n",
        "    build a linear regression model using sklearn.linear_model\n",
        "    :param X: Feature dataset\n",
        "    :param y: label dataset\n",
        "    :return: a linear regression model\n",
        "    \"\"\"\n",
        "    linear_mod = linear_model.LinearRegression()  # defining the linear regression model\n",
        "    X = np.reshape(X, (X.shape[0], 1))\n",
        "    y = np.reshape(y, (y.shape[0], 1))\n",
        "    linear_mod.fit(X, y)  # fitting the data points in the model\n",
        "\n",
        "    return linear_mod\n",
        "\n",
        "\n",
        "def predict_prices(model, x, label_range):\n",
        "    \"\"\"\n",
        "    Predict the label for given test sets\n",
        "    :param model: a linear regression model\n",
        "    :param x: testing features\n",
        "    :param label_range: normalised range of label data\n",
        "    :return: predicted labels for given features\n",
        "    \"\"\"\n",
        "    x = np.reshape(x, (x.shape[0], 1))\n",
        "    predicted_price = model.predict(x)\n",
        "    predictions_rescaled, re_range = scale_range(predicted_price, input_range=[-1.0, 1.0], target_range=label_range)\n",
        "\n",
        "    return predictions_rescaled.flatten()\n",
        "\n",
        "\n"
      ],
      "metadata": {
        "id": "p6ojtGvEkDvF"
      },
      "execution_count": 21,
      "outputs": []
    },
    {
      "cell_type": "code",
      "execution_count": 22,
      "metadata": {
        "id": "mR_sfSRffr56",
        "colab": {
          "base_uri": "https://localhost:8080/",
          "height": 206
        },
        "outputId": "fb924e92-7465-43b9-8a18-1523cb6345b9"
      },
      "outputs": [
        {
          "output_type": "display_data",
          "data": {
            "text/plain": [
              "   Item      Open     Close    Volume\n",
              "0     0  0.240320  0.238234  0.055696\n",
              "1     1  0.234535  0.237113  0.067011\n",
              "2     2  0.235870  0.257732  0.103973\n",
              "3     3  0.258789  0.257284  0.061183\n",
              "4     4  0.257454  0.254594  0.040605"
            ],
            "text/html": [
              "\n",
              "  <div id=\"df-3d624463-d5c6-44cd-ab0c-e30fb9275af6\">\n",
              "    <div class=\"colab-df-container\">\n",
              "      <div>\n",
              "<style scoped>\n",
              "    .dataframe tbody tr th:only-of-type {\n",
              "        vertical-align: middle;\n",
              "    }\n",
              "\n",
              "    .dataframe tbody tr th {\n",
              "        vertical-align: top;\n",
              "    }\n",
              "\n",
              "    .dataframe thead th {\n",
              "        text-align: right;\n",
              "    }\n",
              "</style>\n",
              "<table border=\"1\" class=\"dataframe\">\n",
              "  <thead>\n",
              "    <tr style=\"text-align: right;\">\n",
              "      <th></th>\n",
              "      <th>Item</th>\n",
              "      <th>Open</th>\n",
              "      <th>Close</th>\n",
              "      <th>Volume</th>\n",
              "    </tr>\n",
              "  </thead>\n",
              "  <tbody>\n",
              "    <tr>\n",
              "      <th>0</th>\n",
              "      <td>0</td>\n",
              "      <td>0.240320</td>\n",
              "      <td>0.238234</td>\n",
              "      <td>0.055696</td>\n",
              "    </tr>\n",
              "    <tr>\n",
              "      <th>1</th>\n",
              "      <td>1</td>\n",
              "      <td>0.234535</td>\n",
              "      <td>0.237113</td>\n",
              "      <td>0.067011</td>\n",
              "    </tr>\n",
              "    <tr>\n",
              "      <th>2</th>\n",
              "      <td>2</td>\n",
              "      <td>0.235870</td>\n",
              "      <td>0.257732</td>\n",
              "      <td>0.103973</td>\n",
              "    </tr>\n",
              "    <tr>\n",
              "      <th>3</th>\n",
              "      <td>3</td>\n",
              "      <td>0.258789</td>\n",
              "      <td>0.257284</td>\n",
              "      <td>0.061183</td>\n",
              "    </tr>\n",
              "    <tr>\n",
              "      <th>4</th>\n",
              "      <td>4</td>\n",
              "      <td>0.257454</td>\n",
              "      <td>0.254594</td>\n",
              "      <td>0.040605</td>\n",
              "    </tr>\n",
              "  </tbody>\n",
              "</table>\n",
              "</div>\n",
              "      <button class=\"colab-df-convert\" onclick=\"convertToInteractive('df-3d624463-d5c6-44cd-ab0c-e30fb9275af6')\"\n",
              "              title=\"Convert this dataframe to an interactive table.\"\n",
              "              style=\"display:none;\">\n",
              "        \n",
              "  <svg xmlns=\"http://www.w3.org/2000/svg\" height=\"24px\"viewBox=\"0 0 24 24\"\n",
              "       width=\"24px\">\n",
              "    <path d=\"M0 0h24v24H0V0z\" fill=\"none\"/>\n",
              "    <path d=\"M18.56 5.44l.94 2.06.94-2.06 2.06-.94-2.06-.94-.94-2.06-.94 2.06-2.06.94zm-11 1L8.5 8.5l.94-2.06 2.06-.94-2.06-.94L8.5 2.5l-.94 2.06-2.06.94zm10 10l.94 2.06.94-2.06 2.06-.94-2.06-.94-.94-2.06-.94 2.06-2.06.94z\"/><path d=\"M17.41 7.96l-1.37-1.37c-.4-.4-.92-.59-1.43-.59-.52 0-1.04.2-1.43.59L10.3 9.45l-7.72 7.72c-.78.78-.78 2.05 0 2.83L4 21.41c.39.39.9.59 1.41.59.51 0 1.02-.2 1.41-.59l7.78-7.78 2.81-2.81c.8-.78.8-2.07 0-2.86zM5.41 20L4 18.59l7.72-7.72 1.47 1.35L5.41 20z\"/>\n",
              "  </svg>\n",
              "      </button>\n",
              "      \n",
              "  <style>\n",
              "    .colab-df-container {\n",
              "      display:flex;\n",
              "      flex-wrap:wrap;\n",
              "      gap: 12px;\n",
              "    }\n",
              "\n",
              "    .colab-df-convert {\n",
              "      background-color: #E8F0FE;\n",
              "      border: none;\n",
              "      border-radius: 50%;\n",
              "      cursor: pointer;\n",
              "      display: none;\n",
              "      fill: #1967D2;\n",
              "      height: 32px;\n",
              "      padding: 0 0 0 0;\n",
              "      width: 32px;\n",
              "    }\n",
              "\n",
              "    .colab-df-convert:hover {\n",
              "      background-color: #E2EBFA;\n",
              "      box-shadow: 0px 1px 2px rgba(60, 64, 67, 0.3), 0px 1px 3px 1px rgba(60, 64, 67, 0.15);\n",
              "      fill: #174EA6;\n",
              "    }\n",
              "\n",
              "    [theme=dark] .colab-df-convert {\n",
              "      background-color: #3B4455;\n",
              "      fill: #D2E3FC;\n",
              "    }\n",
              "\n",
              "    [theme=dark] .colab-df-convert:hover {\n",
              "      background-color: #434B5C;\n",
              "      box-shadow: 0px 1px 3px 1px rgba(0, 0, 0, 0.15);\n",
              "      filter: drop-shadow(0px 1px 2px rgba(0, 0, 0, 0.3));\n",
              "      fill: #FFFFFF;\n",
              "    }\n",
              "  </style>\n",
              "\n",
              "      <script>\n",
              "        const buttonEl =\n",
              "          document.querySelector('#df-3d624463-d5c6-44cd-ab0c-e30fb9275af6 button.colab-df-convert');\n",
              "        buttonEl.style.display =\n",
              "          google.colab.kernel.accessAllowed ? 'block' : 'none';\n",
              "\n",
              "        async function convertToInteractive(key) {\n",
              "          const element = document.querySelector('#df-3d624463-d5c6-44cd-ab0c-e30fb9275af6');\n",
              "          const dataTable =\n",
              "            await google.colab.kernel.invokeFunction('convertToInteractive',\n",
              "                                                     [key], {});\n",
              "          if (!dataTable) return;\n",
              "\n",
              "          const docLinkHtml = 'Like what you see? Visit the ' +\n",
              "            '<a target=\"_blank\" href=https://colab.research.google.com/notebooks/data_table.ipynb>data table notebook</a>'\n",
              "            + ' to learn more about interactive tables.';\n",
              "          element.innerHTML = '';\n",
              "          dataTable['output_type'] = 'display_data';\n",
              "          await google.colab.output.renderOutput(dataTable, element);\n",
              "          const docLink = document.createElement('div');\n",
              "          docLink.innerHTML = docLinkHtml;\n",
              "          element.appendChild(docLink);\n",
              "        }\n",
              "      </script>\n",
              "    </div>\n",
              "  </div>\n",
              "  "
            ]
          },
          "metadata": {}
        }
      ],
      "source": [
        "import math\n",
        "import pandas as pd\n",
        "import numpy as np\n",
        "from IPython.display import display\n",
        "from sklearn import linear_model\n",
        "from sklearn.model_selection import train_test_split\n",
        "from sklearn.metrics import mean_squared_error\n",
        "from sklearn.model_selection import TimeSeriesSplit\n",
        "\n",
        "# import visualize as vs\n",
        "# import stock_data as sd\n",
        "# import LinearRegressionModel\n",
        "\n",
        "stocks = pd.read_csv('/content/DATA/tata_prepeocessed.csv')\n",
        "display(stocks.head())"
      ]
    },
    {
      "cell_type": "markdown",
      "metadata": {
        "id": "N8NJ3u4Dfr57"
      },
      "source": [
        "**Step 2:** Split data into train and test pair"
      ]
    },
    {
      "cell_type": "code",
      "execution_count": 23,
      "metadata": {
        "id": "C3RSA257fr57",
        "colab": {
          "base_uri": "https://localhost:8080/"
        },
        "outputId": "508e475c-0374-474b-bc77-bd9bb3068fdc"
      },
      "outputs": [
        {
          "output_type": "stream",
          "name": "stdout",
          "text": [
            "x_train (846, 1)\n",
            "y_train (846, 1)\n",
            "x_test (389, 1)\n",
            "y_test (389, 1)\n"
          ]
        }
      ],
      "source": [
        "X_train, X_test, y_train, y_test, label_range= train_test_split_linear_regression(stocks)\n",
        "\n",
        "print(\"x_train\", X_train.shape)\n",
        "print(\"y_train\", y_train.shape)\n",
        "print(\"x_test\", X_test.shape)\n",
        "print(\"y_test\", y_test.shape)"
      ]
    },
    {
      "cell_type": "markdown",
      "metadata": {
        "id": "RlB8GISMfr58"
      },
      "source": [
        "**Step 3:** Train a Linear regressor model on training set and get prediction"
      ]
    },
    {
      "cell_type": "code",
      "execution_count": 24,
      "metadata": {
        "collapsed": true,
        "id": "VQcQXjrTfr58"
      },
      "outputs": [],
      "source": [
        "model = build_model(X_train,y_train)"
      ]
    },
    {
      "cell_type": "markdown",
      "metadata": {
        "id": "-pDq66p5fr58"
      },
      "source": [
        "**Step 4:** Get prediction on test set"
      ]
    },
    {
      "cell_type": "code",
      "execution_count": 25,
      "metadata": {
        "collapsed": true,
        "id": "2sluxISffr59"
      },
      "outputs": [],
      "source": [
        "predictions = predict_prices(model,X_test, label_range)"
      ]
    },
    {
      "cell_type": "markdown",
      "metadata": {
        "id": "GzpguTKvfr59"
      },
      "source": [
        "**Step 5:** Plot the predicted values against actual"
      ]
    },
    {
      "cell_type": "code",
      "execution_count": 26,
      "metadata": {
        "id": "goPMsR8dfr59",
        "colab": {
          "base_uri": "https://localhost:8080/",
          "height": 667
        },
        "outputId": "aaa81734-85bf-4305-f863-ecc393c46b9a"
      },
      "outputs": [
        {
          "output_type": "display_data",
          "data": {
            "text/plain": [
              "<Figure size 1296x864 with 1 Axes>"
            ],
            "image/png": "[encoded data removed]"
          },
          "metadata": {
            "needs_background": "light"
          }
        }
      ],
      "source": [
        "plot_prediction(y_test,predictions)"
      ]
    },
    {
      "cell_type": "markdown",
      "metadata": {
        "id": "9ODzlsgDfr59"
      },
      "source": [
        "**Step 6:** measure accuracy of the prediction"
      ]
    },
    {
      "cell_type": "code",
      "execution_count": 27,
      "metadata": {
        "id": "TlEhGbQUfr5-",
        "colab": {
          "base_uri": "https://localhost:8080/"
        },
        "outputId": "665fa31e-984e-428e-d477-a04a07ae55b2"
      },
      "outputs": [
        {
          "output_type": "stream",
          "name": "stdout",
          "text": [
            "Train Score: 0.3581 MSE (0.5984 RMSE)\n",
            "Test Score: 0.24073144 MSE (0.49064391 RMSE)\n"
          ]
        }
      ],
      "source": [
        "trainScore = mean_squared_error(X_train, y_train)\n",
        "print('Train Score: %.4f MSE (%.4f RMSE)' % (trainScore, math.sqrt(trainScore)))\n",
        "\n",
        "testScore = mean_squared_error(predictions, y_test)\n",
        "print('Test Score: %.8f MSE (%.8f RMSE)' % (testScore, math.sqrt(testScore)))"
      ]
    },
    {
      "cell_type": "markdown",
      "metadata": {
        "id": "Sn4kNzDVfr5-"
      },
      "source": [
        "# Checkpoint #3\n",
        "\n",
        "\n",
        "## Long-Sort Term Memory Model\n",
        "\n",
        "In this section we will use LSTM to train and test on our data set."
      ]
    },
    {
      "cell_type": "markdown",
      "metadata": {
        "id": "ZQxWYDltfr5-"
      },
      "source": [
        "### Basic LSTM Model\n",
        "\n",
        "First lets make a basic LSTM model."
      ]
    },
    {
      "cell_type": "markdown",
      "metadata": {
        "id": "Lo9-OThFfr5_"
      },
      "source": [
        "**Step 1 :** import keras libraries for smooth implementaion of lstm "
      ]
    },
    {
      "cell_type": "code",
      "source": [
        "from keras.layers.core import Dense, Activation, Dropout\n",
        "from keras.layers.recurrent import LSTM\n",
        "from keras.models import Sequential\n",
        "\n",
        "\n",
        "def build_improved_model(input_dim, output_dim, return_sequences):\n",
        "    \"\"\"\n",
        "    Builds an improved Long Short term memory model using keras.layers.recurrent.lstm\n",
        "    :param input_dim: input dimension of model\n",
        "    :param output_dim: ouput dimension of model\n",
        "    :param return_sequences: return sequence for the model\n",
        "    :return: a 3 layered LSTM model\n",
        "    \"\"\"\n",
        "    model = Sequential()\n",
        "    model.add(LSTM(\n",
        "        input_shape=(None, input_dim),\n",
        "        units=output_dim,\n",
        "        return_sequences=return_sequences))\n",
        "\n",
        "    model.add(Dropout(0.2))\n",
        "\n",
        "    model.add(LSTM(\n",
        "        128,\n",
        "        return_sequences=False))\n",
        "\n",
        "    model.add(Dropout(0.2))\n",
        "\n",
        "    model.add(Dense(\n",
        "        units=1))\n",
        "    model.add(Activation('linear'))\n",
        "\n",
        "    return model\n",
        "\n",
        "\n",
        "def build_basic_model(input_dim, output_dim, return_sequences):\n",
        "    \"\"\"\n",
        "    Builds a basic lstm model \n",
        "    :param input_dim: input dimension of the model\n",
        "    :param output_dim: output dimension of the model\n",
        "    :param return_sequences: return sequence of the model\n",
        "    :return: a basic lstm model with 3 layers.\n",
        "    \"\"\"\n",
        "    model = Sequential()\n",
        "    model.add(LSTM(\n",
        "        input_shape=(None, input_dim),\n",
        "        units=output_dim,\n",
        "        return_sequences=return_sequences))\n",
        "\n",
        "    model.add(LSTM(\n",
        "        100,\n",
        "        return_sequences=False))\n",
        "\n",
        "    model.add(Dense(\n",
        "        units=1))\n",
        "    model.add(Activation('linear'))\n",
        "\n",
        "    return model\n",
        "\n",
        "\n"
      ],
      "metadata": {
        "id": "60HLgGBDp9FN"
      },
      "execution_count": 28,
      "outputs": []
    },
    {
      "cell_type": "code",
      "execution_count": 29,
      "metadata": {
        "id": "ElojJp3Jfr5_",
        "colab": {
          "base_uri": "https://localhost:8080/",
          "height": 395
        },
        "outputId": "3dc5c8cb-77be-4250-c820-2dcb87ed24f0"
      },
      "outputs": [
        {
          "output_type": "display_data",
          "data": {
            "text/plain": [
              "       Open     Close    Volume\n",
              "0  0.240320  0.238234  0.055696\n",
              "1  0.234535  0.237113  0.067011\n",
              "2  0.235870  0.257732  0.103973\n",
              "3  0.258789  0.257284  0.061183\n",
              "4  0.257454  0.254594  0.040605"
            ],
            "text/html": [
              "\n",
              "  <div id=\"df-11727ee2-631b-4734-8123-4977e5283fa4\">\n",
              "    <div class=\"colab-df-container\">\n",
              "      <div>\n",
              "<style scoped>\n",
              "    .dataframe tbody tr th:only-of-type {\n",
              "        vertical-align: middle;\n",
              "    }\n",
              "\n",
              "    .dataframe tbody tr th {\n",
              "        vertical-align: top;\n",
              "    }\n",
              "\n",
              "    .dataframe thead th {\n",
              "        text-align: right;\n",
              "    }\n",
              "</style>\n",
              "<table border=\"1\" class=\"dataframe\">\n",
              "  <thead>\n",
              "    <tr style=\"text-align: right;\">\n",
              "      <th></th>\n",
              "      <th>Open</th>\n",
              "      <th>Close</th>\n",
              "      <th>Volume</th>\n",
              "    </tr>\n",
              "  </thead>\n",
              "  <tbody>\n",
              "    <tr>\n",
              "      <th>0</th>\n",
              "      <td>0.240320</td>\n",
              "      <td>0.238234</td>\n",
              "      <td>0.055696</td>\n",
              "    </tr>\n",
              "    <tr>\n",
              "      <th>1</th>\n",
              "      <td>0.234535</td>\n",
              "      <td>0.237113</td>\n",
              "      <td>0.067011</td>\n",
              "    </tr>\n",
              "    <tr>\n",
              "      <th>2</th>\n",
              "      <td>0.235870</td>\n",
              "      <td>0.257732</td>\n",
              "      <td>0.103973</td>\n",
              "    </tr>\n",
              "    <tr>\n",
              "      <th>3</th>\n",
              "      <td>0.258789</td>\n",
              "      <td>0.257284</td>\n",
              "      <td>0.061183</td>\n",
              "    </tr>\n",
              "    <tr>\n",
              "      <th>4</th>\n",
              "      <td>0.257454</td>\n",
              "      <td>0.254594</td>\n",
              "      <td>0.040605</td>\n",
              "    </tr>\n",
              "  </tbody>\n",
              "</table>\n",
              "</div>\n",
              "      <button class=\"colab-df-convert\" onclick=\"convertToInteractive('df-11727ee2-631b-4734-8123-4977e5283fa4')\"\n",
              "              title=\"Convert this dataframe to an interactive table.\"\n",
              "              style=\"display:none;\">\n",
              "        \n",
              "  <svg xmlns=\"http://www.w3.org/2000/svg\" height=\"24px\"viewBox=\"0 0 24 24\"\n",
              "       width=\"24px\">\n",
              "    <path d=\"M0 0h24v24H0V0z\" fill=\"none\"/>\n",
              "    <path d=\"M18.56 5.44l.94 2.06.94-2.06 2.06-.94-2.06-.94-.94-2.06-.94 2.06-2.06.94zm-11 1L8.5 8.5l.94-2.06 2.06-.94-2.06-.94L8.5 2.5l-.94 2.06-2.06.94zm10 10l.94 2.06.94-2.06 2.06-.94-2.06-.94-.94-2.06-.94 2.06-2.06.94z\"/><path d=\"M17.41 7.96l-1.37-1.37c-.4-.4-.92-.59-1.43-.59-.52 0-1.04.2-1.43.59L10.3 9.45l-7.72 7.72c-.78.78-.78 2.05 0 2.83L4 21.41c.39.39.9.59 1.41.59.51 0 1.02-.2 1.41-.59l7.78-7.78 2.81-2.81c.8-.78.8-2.07 0-2.86zM5.41 20L4 18.59l7.72-7.72 1.47 1.35L5.41 20z\"/>\n",
              "  </svg>\n",
              "      </button>\n",
              "      \n",
              "  <style>\n",
              "    .colab-df-container {\n",
              "      display:flex;\n",
              "      flex-wrap:wrap;\n",
              "      gap: 12px;\n",
              "    }\n",
              "\n",
              "    .colab-df-convert {\n",
              "      background-color: #E8F0FE;\n",
              "      border: none;\n",
              "      border-radius: 50%;\n",
              "      cursor: pointer;\n",
              "      display: none;\n",
              "      fill: #1967D2;\n",
              "      height: 32px;\n",
              "      padding: 0 0 0 0;\n",
              "      width: 32px;\n",
              "    }\n",
              "\n",
              "    .colab-df-convert:hover {\n",
              "      background-color: #E2EBFA;\n",
              "      box-shadow: 0px 1px 2px rgba(60, 64, 67, 0.3), 0px 1px 3px 1px rgba(60, 64, 67, 0.15);\n",
              "      fill: #174EA6;\n",
              "    }\n",
              "\n",
              "    [theme=dark] .colab-df-convert {\n",
              "      background-color: #3B4455;\n",
              "      fill: #D2E3FC;\n",
              "    }\n",
              "\n",
              "    [theme=dark] .colab-df-convert:hover {\n",
              "      background-color: #434B5C;\n",
              "      box-shadow: 0px 1px 3px 1px rgba(0, 0, 0, 0.15);\n",
              "      filter: drop-shadow(0px 1px 2px rgba(0, 0, 0, 0.3));\n",
              "      fill: #FFFFFF;\n",
              "    }\n",
              "  </style>\n",
              "\n",
              "      <script>\n",
              "        const buttonEl =\n",
              "          document.querySelector('#df-11727ee2-631b-4734-8123-4977e5283fa4 button.colab-df-convert');\n",
              "        buttonEl.style.display =\n",
              "          google.colab.kernel.accessAllowed ? 'block' : 'none';\n",
              "\n",
              "        async function convertToInteractive(key) {\n",
              "          const element = document.querySelector('#df-11727ee2-631b-4734-8123-4977e5283fa4');\n",
              "          const dataTable =\n",
              "            await google.colab.kernel.invokeFunction('convertToInteractive',\n",
              "                                                     [key], {});\n",
              "          if (!dataTable) return;\n",
              "\n",
              "          const docLinkHtml = 'Like what you see? Visit the ' +\n",
              "            '<a target=\"_blank\" href=https://colab.research.google.com/notebooks/data_table.ipynb>data table notebook</a>'\n",
              "            + ' to learn more about interactive tables.';\n",
              "          element.innerHTML = '';\n",
              "          dataTable['output_type'] = 'display_data';\n",
              "          await google.colab.output.renderOutput(dataTable, element);\n",
              "          const docLink = document.createElement('div');\n",
              "          docLink.innerHTML = docLinkHtml;\n",
              "          element.appendChild(docLink);\n",
              "        }\n",
              "      </script>\n",
              "    </div>\n",
              "  </div>\n",
              "  "
            ]
          },
          "metadata": {}
        },
        {
          "output_type": "display_data",
          "data": {
            "text/plain": [
              "   Item      Open     Close    Volume\n",
              "0     0  0.240320  0.238234  0.055696\n",
              "1     1  0.234535  0.237113  0.067011\n",
              "2     2  0.235870  0.257732  0.103973\n",
              "3     3  0.258789  0.257284  0.061183\n",
              "4     4  0.257454  0.254594  0.040605"
            ],
            "text/html": [
              "\n",
              "  <div id=\"df-59269fb4-99fa-4049-a9cc-9b3faa8eed10\">\n",
              "    <div class=\"colab-df-container\">\n",
              "      <div>\n",
              "<style scoped>\n",
              "    .dataframe tbody tr th:only-of-type {\n",
              "        vertical-align: middle;\n",
              "    }\n",
              "\n",
              "    .dataframe tbody tr th {\n",
              "        vertical-align: top;\n",
              "    }\n",
              "\n",
              "    .dataframe thead th {\n",
              "        text-align: right;\n",
              "    }\n",
              "</style>\n",
              "<table border=\"1\" class=\"dataframe\">\n",
              "  <thead>\n",
              "    <tr style=\"text-align: right;\">\n",
              "      <th></th>\n",
              "      <th>Item</th>\n",
              "      <th>Open</th>\n",
              "      <th>Close</th>\n",
              "      <th>Volume</th>\n",
              "    </tr>\n",
              "  </thead>\n",
              "  <tbody>\n",
              "    <tr>\n",
              "      <th>0</th>\n",
              "      <td>0</td>\n",
              "      <td>0.240320</td>\n",
              "      <td>0.238234</td>\n",
              "      <td>0.055696</td>\n",
              "    </tr>\n",
              "    <tr>\n",
              "      <th>1</th>\n",
              "      <td>1</td>\n",
              "      <td>0.234535</td>\n",
              "      <td>0.237113</td>\n",
              "      <td>0.067011</td>\n",
              "    </tr>\n",
              "    <tr>\n",
              "      <th>2</th>\n",
              "      <td>2</td>\n",
              "      <td>0.235870</td>\n",
              "      <td>0.257732</td>\n",
              "      <td>0.103973</td>\n",
              "    </tr>\n",
              "    <tr>\n",
              "      <th>3</th>\n",
              "      <td>3</td>\n",
              "      <td>0.258789</td>\n",
              "      <td>0.257284</td>\n",
              "      <td>0.061183</td>\n",
              "    </tr>\n",
              "    <tr>\n",
              "      <th>4</th>\n",
              "      <td>4</td>\n",
              "      <td>0.257454</td>\n",
              "      <td>0.254594</td>\n",
              "      <td>0.040605</td>\n",
              "    </tr>\n",
              "  </tbody>\n",
              "</table>\n",
              "</div>\n",
              "      <button class=\"colab-df-convert\" onclick=\"convertToInteractive('df-59269fb4-99fa-4049-a9cc-9b3faa8eed10')\"\n",
              "              title=\"Convert this dataframe to an interactive table.\"\n",
              "              style=\"display:none;\">\n",
              "        \n",
              "  <svg xmlns=\"http://www.w3.org/2000/svg\" height=\"24px\"viewBox=\"0 0 24 24\"\n",
              "       width=\"24px\">\n",
              "    <path d=\"M0 0h24v24H0V0z\" fill=\"none\"/>\n",
              "    <path d=\"M18.56 5.44l.94 2.06.94-2.06 2.06-.94-2.06-.94-.94-2.06-.94 2.06-2.06.94zm-11 1L8.5 8.5l.94-2.06 2.06-.94-2.06-.94L8.5 2.5l-.94 2.06-2.06.94zm10 10l.94 2.06.94-2.06 2.06-.94-2.06-.94-.94-2.06-.94 2.06-2.06.94z\"/><path d=\"M17.41 7.96l-1.37-1.37c-.4-.4-.92-.59-1.43-.59-.52 0-1.04.2-1.43.59L10.3 9.45l-7.72 7.72c-.78.78-.78 2.05 0 2.83L4 21.41c.39.39.9.59 1.41.59.51 0 1.02-.2 1.41-.59l7.78-7.78 2.81-2.81c.8-.78.8-2.07 0-2.86zM5.41 20L4 18.59l7.72-7.72 1.47 1.35L5.41 20z\"/>\n",
              "  </svg>\n",
              "      </button>\n",
              "      \n",
              "  <style>\n",
              "    .colab-df-container {\n",
              "      display:flex;\n",
              "      flex-wrap:wrap;\n",
              "      gap: 12px;\n",
              "    }\n",
              "\n",
              "    .colab-df-convert {\n",
              "      background-color: #E8F0FE;\n",
              "      border: none;\n",
              "      border-radius: 50%;\n",
              "      cursor: pointer;\n",
              "      display: none;\n",
              "      fill: #1967D2;\n",
              "      height: 32px;\n",
              "      padding: 0 0 0 0;\n",
              "      width: 32px;\n",
              "    }\n",
              "\n",
              "    .colab-df-convert:hover {\n",
              "      background-color: #E2EBFA;\n",
              "      box-shadow: 0px 1px 2px rgba(60, 64, 67, 0.3), 0px 1px 3px 1px rgba(60, 64, 67, 0.15);\n",
              "      fill: #174EA6;\n",
              "    }\n",
              "\n",
              "    [theme=dark] .colab-df-convert {\n",
              "      background-color: #3B4455;\n",
              "      fill: #D2E3FC;\n",
              "    }\n",
              "\n",
              "    [theme=dark] .colab-df-convert:hover {\n",
              "      background-color: #434B5C;\n",
              "      box-shadow: 0px 1px 3px 1px rgba(0, 0, 0, 0.15);\n",
              "      filter: drop-shadow(0px 1px 2px rgba(0, 0, 0, 0.3));\n",
              "      fill: #FFFFFF;\n",
              "    }\n",
              "  </style>\n",
              "\n",
              "      <script>\n",
              "        const buttonEl =\n",
              "          document.querySelector('#df-59269fb4-99fa-4049-a9cc-9b3faa8eed10 button.colab-df-convert');\n",
              "        buttonEl.style.display =\n",
              "          google.colab.kernel.accessAllowed ? 'block' : 'none';\n",
              "\n",
              "        async function convertToInteractive(key) {\n",
              "          const element = document.querySelector('#df-59269fb4-99fa-4049-a9cc-9b3faa8eed10');\n",
              "          const dataTable =\n",
              "            await google.colab.kernel.invokeFunction('convertToInteractive',\n",
              "                                                     [key], {});\n",
              "          if (!dataTable) return;\n",
              "\n",
              "          const docLinkHtml = 'Like what you see? Visit the ' +\n",
              "            '<a target=\"_blank\" href=https://colab.research.google.com/notebooks/data_table.ipynb>data table notebook</a>'\n",
              "            + ' to learn more about interactive tables.';\n",
              "          element.innerHTML = '';\n",
              "          dataTable['output_type'] = 'display_data';\n",
              "          await google.colab.output.renderOutput(dataTable, element);\n",
              "          const docLink = document.createElement('div');\n",
              "          docLink.innerHTML = docLinkHtml;\n",
              "          element.appendChild(docLink);\n",
              "        }\n",
              "      </script>\n",
              "    </div>\n",
              "  </div>\n",
              "  "
            ]
          },
          "metadata": {}
        }
      ],
      "source": [
        "import math\n",
        "import pandas as pd\n",
        "import numpy as np\n",
        "from IPython.display import display\n",
        "\n",
        "from keras.layers.core import Dense, Activation, Dropout\n",
        "from keras.layers.recurrent import LSTM\n",
        "from keras.models import Sequential\n",
        "from keras.metrics import mean_squared_error\n",
        "from sklearn.model_selection import StratifiedKFold\n",
        "\n",
        "import  time #helper libraries\n",
        "\n",
        "# import visualize as vs\n",
        "# import stock_data as sd\n",
        "# import LinearRegressionModel\n",
        "\n",
        "stocks = pd.read_csv('/content/DATA/tata_prepeocessed.csv')\n",
        "stocks_data = stocks.drop(['Item'], axis =1)\n",
        "\n",
        "display(stocks_data.head())\n",
        "display(stocks.head())"
      ]
    },
    {
      "cell_type": "markdown",
      "metadata": {
        "id": "zOKbmOYJfr5_"
      },
      "source": [
        "**Step 2 :** Split train and test data sets and Unroll train and test data for lstm model"
      ]
    },
    {
      "cell_type": "code",
      "execution_count": 30,
      "metadata": {
        "id": "UP9dKVGrfr6A",
        "colab": {
          "base_uri": "https://localhost:8080/"
        },
        "outputId": "81bd2e0e-6d0c-43da-a75f-023d35b66bc7"
      },
      "outputs": [
        {
          "output_type": "stream",
          "name": "stdout",
          "text": [
            "x_train (679, 50, 3)\n",
            "y_train (679,)\n",
            "x_test (446, 50, 3)\n",
            "y_test (446,)\n"
          ]
        }
      ],
      "source": [
        "X_train, X_test,y_train, y_test = train_test_split_lstm(stocks_data, 5)\n",
        "# train_test_split_linear_regression(stocks)\n",
        "\n",
        "\n",
        "unroll_length = 50\n",
        "X_train = unroll(X_train, unroll_length)\n",
        "X_test = unroll(X_test, unroll_length)\n",
        "y_train = y_train[-X_train.shape[0]:]\n",
        "y_test = y_test[-X_test.shape[0]:]\n",
        "\n",
        "print(\"x_train\", X_train.shape)\n",
        "print(\"y_train\", y_train.shape)\n",
        "print(\"x_test\", X_test.shape)\n",
        "print(\"y_test\", y_test.shape)"
      ]
    },
    {
      "cell_type": "markdown",
      "metadata": {
        "id": "cezOJsP3fr6A"
      },
      "source": [
        "**Step 3 :** Build a basic Long-Short Term Memory model"
      ]
    },
    {
      "cell_type": "code",
      "execution_count": 31,
      "metadata": {
        "id": "xlSUkL8bfr6A",
        "colab": {
          "base_uri": "https://localhost:8080/"
        },
        "outputId": "75650e92-9826-4af1-b08a-d5c30003b925"
      },
      "outputs": [
        {
          "output_type": "stream",
          "name": "stdout",
          "text": [
            "compilation time :  0.008490324020385742\n"
          ]
        }
      ],
      "source": [
        "# build basic lstm model\n",
        "model = build_basic_model(input_dim = X_train.shape[-1],output_dim = unroll_length, return_sequences=True)\n",
        "\n",
        "# Compile the model\n",
        "start = time.time()\n",
        "model.compile(loss='mean_squared_error', optimizer='adam')\n",
        "print('compilation time : ', time.time() - start)"
      ]
    },
    {
      "cell_type": "markdown",
      "metadata": {
        "id": "yMBkvDRufr6B"
      },
      "source": [
        "**Step 4:** Train the model"
      ]
    },
    {
      "cell_type": "code",
      "execution_count": 32,
      "metadata": {
        "id": "8VUCfqC0fr6B",
        "colab": {
          "base_uri": "https://localhost:8080/"
        },
        "outputId": "b35f4d9f-a146-44d5-f702-ed7abd1e0536"
      },
      "outputs": [
        {
          "output_type": "stream",
          "name": "stdout",
          "text": [
            "21/21 [==============================] - 9s 169ms/step - loss: 0.0047 - val_loss: 7.9130e-04\n"
          ]
        },
        {
          "output_type": "execute_result",
          "data": {
            "text/plain": [
              "<keras.callbacks.History at 0x7fee41fdffd0>"
            ]
          },
          "metadata": {},
          "execution_count": 32
        }
      ],
      "source": [
        "model.fit(\n",
        "    X_train,\n",
        "    y_train,\n",
        "    epochs=1,\n",
        "    validation_split=0.05)"
      ]
    },
    {
      "cell_type": "markdown",
      "metadata": {
        "id": "rHr8tRNzfr6B"
      },
      "source": [
        "**Step 5:** make prediction using test data"
      ]
    },
    {
      "cell_type": "code",
      "execution_count": 33,
      "metadata": {
        "collapsed": true,
        "id": "U3z36Jrxfr6B"
      },
      "outputs": [],
      "source": [
        "predictions = model.predict(X_test)"
      ]
    },
    {
      "cell_type": "markdown",
      "metadata": {
        "id": "F4nK9hiJfr6C"
      },
      "source": [
        "**Step 6:** Plot the results"
      ]
    },
    {
      "cell_type": "code",
      "execution_count": 34,
      "metadata": {
        "id": "mX0o0eFxfr6C",
        "colab": {
          "base_uri": "https://localhost:8080/",
          "height": 676
        },
        "outputId": "fe52171d-c44d-4fea-8bcb-92be52735d0d"
      },
      "outputs": [
        {
          "output_type": "display_data",
          "data": {
            "text/plain": [
              "<Figure size 1296x864 with 1 Axes>"
            ],
            "image/png": "[encoded data removed]"
          },
          "metadata": {
            "needs_background": "light"
          }
        }
      ],
      "source": [
        "plot_lstm_prediction(y_test,predictions)"
      ]
    },
    {
      "cell_type": "markdown",
      "metadata": {
        "id": "t8kAH-GUfr6C"
      },
      "source": [
        "** Step 7:** Get the test score."
      ]
    },
    {
      "cell_type": "code",
      "execution_count": 35,
      "metadata": {
        "id": "vLsM0khrfr6C",
        "colab": {
          "base_uri": "https://localhost:8080/"
        },
        "outputId": "60bf32e3-1ac4-4f72-a4a3-18b2146ed92a"
      },
      "outputs": [
        {
          "output_type": "stream",
          "name": "stdout",
          "text": [
            "Train Score: 0.00181769 MSE (0.04263433 RMSE)\n",
            "Test Score: 0.01955572 MSE (0.13984177 RMSE)\n"
          ]
        }
      ],
      "source": [
        "trainScore = model.evaluate(X_train, y_train, verbose=0)\n",
        "print('Train Score: %.8f MSE (%.8f RMSE)' % (trainScore, math.sqrt(trainScore)))\n",
        "\n",
        "testScore = model.evaluate(X_test, y_test, verbose=0)\n",
        "print('Test Score: %.8f MSE (%.8f RMSE)' % (testScore, math.sqrt(testScore)))"
      ]
    },
    {
      "cell_type": "markdown",
      "metadata": {
        "id": "miMgvRBdfr6D"
      },
      "source": [
        "### Improved LSTM Model\n",
        "\n",
        "**Step 1: ** Build an improved LSTM model"
      ]
    },
    {
      "cell_type": "code",
      "execution_count": 36,
      "metadata": {
        "id": "hDiI0vZxfr6D",
        "colab": {
          "base_uri": "https://localhost:8080/"
        },
        "outputId": "46998213-285c-4b26-a976-370de3e7fdf0"
      },
      "outputs": [
        {
          "output_type": "stream",
          "name": "stdout",
          "text": [
            "compilation time :  0.004203319549560547\n"
          ]
        }
      ],
      "source": [
        "# Set up hyperparameters\n",
        "batch_size = 100\n",
        "epochs = 5\n",
        "\n",
        "# build improved lstm model\n",
        "model = build_improved_model( X_train.shape[-1],output_dim = unroll_length, return_sequences=True)\n",
        "\n",
        "start = time.time()\n",
        "#final_model.compile(loss='mean_squared_error', optimizer='adam')\n",
        "model.compile(loss='mean_squared_error', optimizer='adam')\n",
        "print('compilation time : ', time.time() - start)"
      ]
    },
    {
      "cell_type": "markdown",
      "metadata": {
        "id": "uR9EaLzMfr6D"
      },
      "source": [
        "**Step 2: ** Train improved LSTM model"
      ]
    },
    {
      "cell_type": "code",
      "execution_count": 37,
      "metadata": {
        "scrolled": true,
        "id": "YeBowBaffr6D",
        "colab": {
          "base_uri": "https://localhost:8080/"
        },
        "outputId": "5be24b75-91e2-4f51-b2e9-1939ebdc517f"
      },
      "outputs": [
        {
          "output_type": "stream",
          "name": "stdout",
          "text": [
            "Epoch 1/5\n",
            "7/7 - 8s - loss: 0.0099 - val_loss: 0.0011 - 8s/epoch - 1s/step\n",
            "Epoch 2/5\n",
            "7/7 - 2s - loss: 0.0023 - val_loss: 9.6999e-04 - 2s/epoch - 237ms/step\n",
            "Epoch 3/5\n",
            "7/7 - 2s - loss: 0.0019 - val_loss: 6.4284e-04 - 2s/epoch - 237ms/step\n",
            "Epoch 4/5\n",
            "7/7 - 2s - loss: 0.0016 - val_loss: 1.1526e-04 - 2s/epoch - 231ms/step\n",
            "Epoch 5/5\n",
            "7/7 - 2s - loss: 0.0015 - val_loss: 1.6008e-04 - 2s/epoch - 236ms/step\n"
          ]
        },
        {
          "output_type": "execute_result",
          "data": {
            "text/plain": [
              "<keras.callbacks.History at 0x7fee41caefd0>"
            ]
          },
          "metadata": {},
          "execution_count": 37
        }
      ],
      "source": [
        "model.fit(X_train, \n",
        "          y_train, \n",
        "          batch_size=batch_size,\n",
        "          epochs=epochs,\n",
        "          verbose=2,\n",
        "          validation_split=0.05\n",
        "         )"
      ]
    },
    {
      "cell_type": "markdown",
      "metadata": {
        "id": "Mu_dDKIjfr6E"
      },
      "source": [
        "**Step 3:** Make prediction on improved LSTM model"
      ]
    },
    {
      "cell_type": "code",
      "execution_count": 38,
      "metadata": {
        "collapsed": true,
        "id": "Jix7vhOSfr6E"
      },
      "outputs": [],
      "source": [
        "# Generate predictions \n",
        "predictions = model.predict(X_test, batch_size=batch_size)"
      ]
    },
    {
      "cell_type": "markdown",
      "metadata": {
        "id": "SIuMxgfPfr6E"
      },
      "source": [
        "**Step 4:** plot the results"
      ]
    },
    {
      "cell_type": "code",
      "execution_count": 39,
      "metadata": {
        "id": "sn76nFjpfr6F",
        "colab": {
          "base_uri": "https://localhost:8080/",
          "height": 676
        },
        "outputId": "75f98716-324a-47d1-c12f-da9e99e1c390"
      },
      "outputs": [
        {
          "output_type": "display_data",
          "data": {
            "text/plain": [
              "<Figure size 1296x864 with 1 Axes>"
            ],
            "image/png": "[encoded data removed]"
          },
          "metadata": {
            "needs_background": "light"
          }
        }
      ],
      "source": [
        "plot_lstm_prediction(y_test,predictions)"
      ]
    },
    {
      "cell_type": "markdown",
      "metadata": {
        "id": "KDuUajJufr6F"
      },
      "source": [
        "**Step 5:** Get the test score"
      ]
    },
    {
      "cell_type": "code",
      "execution_count": 40,
      "metadata": {
        "id": "s6i3fMTQfr6F",
        "colab": {
          "base_uri": "https://localhost:8080/"
        },
        "outputId": "4c24801c-5315-40f6-8cb4-c3813901f2a8"
      },
      "outputs": [
        {
          "output_type": "stream",
          "name": "stdout",
          "text": [
            "Train Score: 0.00119526 MSE (0.03457260 RMSE)\n",
            "Test Score: 0.02426015 MSE (0.15575670 RMSE)\n"
          ]
        }
      ],
      "source": [
        "trainScore = model.evaluate(X_train, y_train, verbose=0)\n",
        "print('Train Score: %.8f MSE (%.8f RMSE)' % (trainScore, math.sqrt(trainScore)))\n",
        "\n",
        "testScore = model.evaluate(X_test, y_test, verbose=0)\n",
        "print('Test Score: %.8f MSE (%.8f RMSE)' % (testScore, math.sqrt(testScore)))"
      ]
    },
    {
      "cell_type": "code",
      "execution_count": 41,
      "metadata": {
        "id": "RgPxsLYifr6F",
        "colab": {
          "base_uri": "https://localhost:8080/"
        },
        "outputId": "9d4e6d97-0a60-4f25-bcb0-406cd8e03133"
      },
      "outputs": [
        {
          "output_type": "stream",
          "name": "stdout",
          "text": [
            "Delta Price: 0.024260 - RMSE * Adjusted Close Range\n"
          ]
        }
      ],
      "source": [
        "range = [np.amin(stocks_data['Close']), np.amax(stocks_data['Close'])]\n",
        "\n",
        "#Calculate the stock price delta in $\n",
        "\n",
        "true_delta = testScore*(range[1]-range[0])\n",
        "print('Delta Price: %.6f - RMSE * Adjusted Close Range' % true_delta)    "
      ]
    },
    {
      "cell_type": "markdown",
      "metadata": {
        "id": "4s-Ps3Tlfr6G"
      },
      "source": [
        "# Checking Robustness of the model\n",
        "\n",
        "In this section we will check robustness of our LSTM model. I have used new unseen datasets for this from July 1, 2017 to July 20,2017. I have downloaded the data sets from google finance website to check for robustness of the model."
      ]
    },
    {
      "cell_type": "code",
      "execution_count": 43,
      "metadata": {
        "id": "KHArdaBLfr6G"
      },
      "outputs": [],
      "source": [
        "# # import preprocess_data as ppd\n",
        "\n",
        "# data = pd.read_csv('/content/DATA/googl.csv')\n",
        "\n",
        "# stocks = remove_data(data)\n",
        "\n",
        "# stocks = get_normalised_data(stocks)\n",
        "\n",
        "# stocks = stocks.drop(['Item'], axis = 1)\n",
        "# #Print the dataframe head and tail\n",
        "# print(stocks.head())\n",
        "\n",
        "# X = stocks[:].values()\n",
        "# Y = stocks[:]['Close'].values()\n",
        "\n",
        "# X = unroll(X,1)\n",
        "# Y = Y[-X.shape[0]:]\n",
        "\n",
        "# print(X.shape)\n",
        "# print(Y.shape)\n",
        "\n",
        "# # Generate predictions \n",
        "# predictions = model.predict(X)\n",
        "\n",
        "# #get the test score\n",
        "# testScore = model.evaluate(X, Y, verbose=0)\n",
        "# print('Test Score: %.4f MSE (%.4f RMSE)' % (testScore, math.sqrt(testScore)))"
      ]
    },
    {
      "cell_type": "code",
      "execution_count": 45,
      "metadata": {
        "collapsed": true,
        "id": "D5mJkGoafr6G",
        "colab": {
          "base_uri": "https://localhost:8080/",
          "height": 183
        },
        "outputId": "b74a4c6b-e5bc-4ef7-882d-487fe75087e3"
      },
      "outputs": [
        {
          "output_type": "error",
          "ename": "TypeError",
          "evalue": "ignored",
          "traceback": [
            "\u001b[0;31m---------------------------------------------------------------------------\u001b[0m",
            "\u001b[0;31mTypeError\u001b[0m                                 Traceback (most recent call last)",
            "\u001b[0;32m<ipython-input-45-aa6386d2c8df>\u001b[0m in \u001b[0;36m<module>\u001b[0;34m()\u001b[0m\n\u001b[0;32m----> 1\u001b[0;31m \u001b[0;32mfor\u001b[0m \u001b[0mi\u001b[0m \u001b[0;32min\u001b[0m \u001b[0mrange\u001b[0m \u001b[0;34m(\u001b[0m\u001b[0;36m20\u001b[0m\u001b[0;34m)\u001b[0m\u001b[0;34m:\u001b[0m\u001b[0;34m\u001b[0m\u001b[0;34m\u001b[0m\u001b[0m\n\u001b[0m\u001b[1;32m      2\u001b[0m   \u001b[0mprint\u001b[0m\u001b[0;34m(\u001b[0m\u001b[0;34m\"abcd\"\u001b[0m\u001b[0;34m)\u001b[0m\u001b[0;34m\u001b[0m\u001b[0;34m\u001b[0m\u001b[0m\n",
            "\u001b[0;31mTypeError\u001b[0m: 'list' object is not callable"
          ]
        }
      ],
      "source": [
        "for i in range (20):\n",
        "  print(\"abcd\")"
      ]
    },
    {
      "cell_type": "code",
      "source": [
        ""
      ],
      "metadata": {
        "id": "cxVIUj8m4P81"
      },
      "execution_count": null,
      "outputs": []
    }
  ],
  "metadata": {
    "kernelspec": {
      "display_name": "Python 3",
      "language": "python",
      "name": "python3"
    },
    "language_info": {
      "codemirror_mode": {
        "name": "ipython",
        "version": 3
      },
      "file_extension": ".py",
      "mimetype": "text/x-python",
      "name": "python",
      "nbconvert_exporter": "python",
      "pygments_lexer": "ipython3",
      "version": "3.5.2"
    },
    "colab": {
      "name": "Stock_Price_Predictor.ipynb",
      "provenance": [],
      "collapsed_sections": [],
      "include_colab_link": true
    }
  },
  "nbformat": 4,
  "nbformat_minor": 0
}